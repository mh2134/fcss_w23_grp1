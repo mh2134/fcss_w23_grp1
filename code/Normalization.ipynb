{
 "cells": [
  {
   "cell_type": "code",
   "execution_count": 1,
   "id": "initial_id",
   "metadata": {
    "collapsed": true,
    "ExecuteTime": {
     "end_time": "2024-01-25T17:27:59.681746200Z",
     "start_time": "2024-01-25T17:27:58.746265300Z"
    }
   },
   "outputs": [],
   "source": [
    "import pandas as pd\n",
    "import numpy as np\n",
    "import matplotlib.pyplot as plt\n",
    "import seaborn as sns\n",
    "from sklearn.linear_model import LinearRegression\n",
    "from sklearn.model_selection import KFold"
   ]
  },
  {
   "cell_type": "markdown",
   "source": [
    "## Loading Preprocesed Data, Normalizing it"
   ],
   "metadata": {
    "collapsed": false
   },
   "id": "37cf51c99ca8b2d3"
  },
  {
   "cell_type": "code",
   "outputs": [],
   "source": [
    "df = pd.read_csv(r'../data/df_allmetro_all.csv')\n",
    "\n",
    "# add ountry column\n",
    "df['country'] = df['metroreg'].apply (lambda x: x[:2])\n",
    "\n",
    "# calculate relative crime\n",
    "df.loc[:, 'crime/population'] = (df['Nr_Crimes'] / df['population']) *1_000_000     # normalizing to per Million \n",
    "df.loc[:, 'density'] = df['population'] / df['area'] \n",
    "\n",
    "# drop na\n",
    "df.dropna()\n",
    "\n",
    "# drop country aggregates\n",
    "df = df[df['metroreg'].str.len() >= 3]\n",
    "\n",
    "# choosing youth unemployment & normalized PP standard \n",
    "df = df[(df['unit'] == 'PPS_HAB_EU27_2020:Purchasing power standard (PPS, EU27 from 2020), per inhabitant in percentage of the EU27 (from 2020) average')  & (df['dfunemp_sex'] == 'T:Total')]\n",
    "\n",
    "# drop metroreg that had a change in area over the years\n",
    "df_grouped = df.groupby(['metroreg', 'TIME_PERIOD'])['area'].mean().reset_index()\n",
    "metroregs_with_area_change = df_grouped.groupby('metroreg').filter(lambda x: x['area'].nunique() > 1)['metroreg'].unique()\n",
    "list(metroregs_with_area_change)\n",
    "# choose only metropolitan areas, keep non-metropolitan ones\n",
    "metroregs_with_area_change = [metroreg for metroreg in metroregs_with_area_change if not metroreg.endswith('NM')]\n",
    "# drop metroregs with area change\n",
    "df = df.drop(df[df['metroreg'].isin([metroregs_with_area_change])].index)\n",
    "\n",
    "df.to_csv(r'../data/normalized_data_no_area_change.csv')"
   ],
   "metadata": {
    "collapsed": false,
    "ExecuteTime": {
     "end_time": "2024-01-25T17:30:46.182605500Z",
     "start_time": "2024-01-25T17:30:44.007425600Z"
    }
   },
   "id": "6032fb35ffe31e0f",
   "execution_count": 7
  }
 ],
 "metadata": {
  "kernelspec": {
   "display_name": "Python 3",
   "language": "python",
   "name": "python3"
  },
  "language_info": {
   "codemirror_mode": {
    "name": "ipython",
    "version": 2
   },
   "file_extension": ".py",
   "mimetype": "text/x-python",
   "name": "python",
   "nbconvert_exporter": "python",
   "pygments_lexer": "ipython2",
   "version": "2.7.6"
  }
 },
 "nbformat": 4,
 "nbformat_minor": 5
}
